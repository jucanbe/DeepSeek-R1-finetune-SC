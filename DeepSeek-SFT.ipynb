{
 "cells": [
  {
   "metadata": {
    "editable": true,
    "slideshow": {
     "slide_type": ""
    },
    "tags": []
   },
   "cell_type": "code",
   "source": [
    "from transformers import AutoModelForCausalLM, AutoTokenizer, GenerationConfig\n",
    "from trl import SFTConfig, SFTTrainer\n",
    "from datasets import Dataset\n",
    "import pandas as pd\n",
    "import torch"
   ],
   "id": "f50b64b0-acc7-41bb-9c25-3387ab86c50d",
   "outputs": [],
   "execution_count": null
  },
  {
   "metadata": {
    "editable": true,
    "slideshow": {
     "slide_type": ""
    },
    "tags": []
   },
   "cell_type": "code",
   "source": [
    "print(torch.__version__)\n",
    "print(torch.cuda.is_available())"
   ],
   "id": "260f9f74-bc8c-4fea-a643-38bcf3b92a1c",
   "outputs": [],
   "execution_count": null
  },
  {
   "cell_type": "code",
   "id": "02896ec3-7c4c-4eb0-bb84-62c0ad16b9f2",
   "metadata": {},
   "source": [
    "model_name = \"deepseek-ai/DeepSeek-R1-Distill-Llama-8B\"\n",
    "tokenizer = AutoTokenizer.from_pretrained(model_name)\n",
    "model = AutoModelForCausalLM.from_pretrained(model_name, torch_dtype=torch.bfloat16, device_map=\"auto\")\n",
    "model.generation_config = GenerationConfig.from_pretrained(model_name)\n",
    "model.generation_config.pad_token_id = model.generation_config.eos_token_id"
   ],
   "outputs": [],
   "execution_count": null
  },
  {
   "metadata": {},
   "cell_type": "code",
   "source": [
    "messages = [\n",
    "    {\"role\": \"user\", \"content\": \"Who are you?\"}\n",
    "]\n",
    "input_tensor = tokenizer.apply_chat_template(messages, add_generation_prompt=True, return_tensors=\"pt\")\n",
    "outputs = model.generate(input_tensor.to(model.device), max_new_tokens=100)\n",
    "\n",
    "result = tokenizer.decode(outputs[0][input_tensor.shape[1]:], skip_special_tokens=True)\n",
    "print(result)"
   ],
   "id": "f33f6bced008c341",
   "outputs": [],
   "execution_count": null
  },
  {
   "metadata": {},
   "cell_type": "code",
   "source": [
    "messages = [\n",
    "    {\"role\": \"user\", \"content\": \"Write a haiku about programming\"}\n",
    "]\n",
    "input_tensor = tokenizer.apply_chat_template(messages, add_generation_prompt=True, return_tensors=\"pt\")\n",
    "outputs = model.generate(input_tensor.to(model.device), max_new_tokens=1200)\n",
    "\n",
    "result = tokenizer.decode(outputs[0][input_tensor.shape[1]:], skip_special_tokens=True)\n",
    "print(result)"
   ],
   "id": "f44539586f7f1e08",
   "outputs": [],
   "execution_count": null
  },
  {
   "metadata": {},
   "cell_type": "code",
   "source": [
    "# Load the dataset\n",
    "df = pd.read_csv(\"datasets/attacks_types.csv\")\n",
    "\n",
    "df[\"text\"] = df[\"Input\"] + \"\\n\\n\" + df[\"Additional Context\"]\n",
    "\n",
    "# Convert to a HF dataset\n",
    "dataset = Dataset.from_pandas(df[[\"text\"]])\n",
    "\n",
    "# Tokenize the dataset\n",
    "def tokenize_function(examples):\n",
    "    return tokenizer(examples[\"text\"], truncation=True, padding=\"max_length\")\n",
    "\n",
    "tokenized_dataset = dataset.map(tokenize_function, batched=True)"
   ],
   "id": "208928c1ff8b81e2",
   "outputs": [],
   "execution_count": null
  },
  {
   "cell_type": "code",
   "id": "ddfb3c60-98a3-49e6-92fe-473bae87f7c7",
   "metadata": {},
   "source": [
    "# Set the name to upload into HuggingFace\n",
    "finetune_name = \"DeepSeek-R1-Distill-Llama-8B-SC-vulnerabilities-list\"\n",
    "finetune_tags = [\"DeepSeek-R1-Distill\", \"smart-contracts\"]"
   ],
   "outputs": [],
   "execution_count": null
  },
  {
   "cell_type": "code",
   "id": "9e8cf843-5890-4b82-afb6-99bca42262a4",
   "metadata": {},
   "source": [
    "# Configure the SFTTrainer\n",
    "sft_config = SFTConfig(\n",
    "    output_dir=\"./sft_output\",\n",
    "    max_steps=1000,  # Adjust based on dataset size and desired training duration\n",
    "    per_device_train_batch_size=1,  # Set according to your GPU memory capacity\n",
    "    learning_rate=5e-5,  # Common starting point for fine-tuning\n",
    "    logging_steps=10,  # Frequency of logging training metrics\n",
    "    save_steps=100,  # Frequency of saving model checkpoints\n",
    "    eval_strategy=\"no\",\n",
    "    hub_model_id=finetune_name,  # Set a unique name for your model\n",
    "    dataset_text_field=\"text\",  # Name of the text field in the dataset\n",
    ")\n",
    "\n",
    "# Initialize the SFTTrainer\n",
    "trainer = SFTTrainer(\n",
    "    model=model,\n",
    "    args=sft_config,\n",
    "    train_dataset=tokenized_dataset,\n",
    "    processing_class=tokenizer)"
   ],
   "outputs": [],
   "execution_count": null
  },
  {
   "cell_type": "code",
   "id": "cd051c99-7b0d-44f4-b236-670c37e8267b",
   "metadata": {},
   "source": [
    "# Train the model\n",
    "trainer.train()\n",
    "\n",
    "# Save the model\n",
    "trainer.save_model(f\"./{finetune_name}\")"
   ],
   "outputs": [],
   "execution_count": null
  },
  {
   "cell_type": "code",
   "id": "c95bdd03-d77f-4d07-a9e2-53aabd9f4b71",
   "metadata": {},
   "source": [
    "# Test the fine-tuned model on the same prompt\n",
    "fine_tuned_model_name = \"./sft_output/checkpoint-60/\"\n",
    "tokenizer = AutoTokenizer.from_pretrained(fine_tuned_model_name)\n",
    "fine_tuned_model = AutoModelForCausalLM.from_pretrained(fine_tuned_model_name, torch_dtype=torch.bfloat16, device_map=\"auto\")\n",
    "fine_tuned_model.generation_config = GenerationConfig.from_pretrained(fine_tuned_model_name)\n",
    "fine_tuned_model.generation_config.pad_token_id = fine_tuned_model.generation_config.eos_token_id\n",
    "\n",
    "prompt = \"Test question\"\n",
    "\n",
    "messages = [\n",
    "    {\"role\": \"user\", \"content\": \"Who are you?\"}\n",
    "]\n",
    "fine_tuned_input_tensor = tokenizer.apply_chat_template(messages, add_generation_prompt=True, return_tensors=\"pt\")\n",
    "fine_tuned_outputs = model.generate(fine_tuned_input_tensor.to(model.device), max_new_tokens=100)\n",
    "\n",
    "fine_tuned_result = tokenizer.decode(fine_tuned_outputs[0][fine_tuned_input_tensor.shape[1]:], skip_special_tokens=True)\n",
    "print(fine_tuned_result)"
   ],
   "outputs": [],
   "execution_count": null
  }
 ],
 "metadata": {
  "kernelspec": {
   "display_name": "Python 3 (ipykernel)",
   "language": "python",
   "name": "python3"
  },
  "language_info": {
   "codemirror_mode": {
    "name": "ipython",
    "version": 3
   },
   "file_extension": ".py",
   "mimetype": "text/x-python",
   "name": "python",
   "nbconvert_exporter": "python",
   "pygments_lexer": "ipython3",
   "version": "3.12.0"
  }
 },
 "nbformat": 4,
 "nbformat_minor": 5
}
